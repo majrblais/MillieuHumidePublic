{
 "cells": [
  {
   "cell_type": "code",
   "execution_count": 10,
   "id": "c89cb0c9-210a-480d-9422-e73cc5aff44a",
   "metadata": {},
   "outputs": [],
   "source": [
    "import pandas as pd\n",
    "import os\n",
    "\n",
    "def csv_to_txt(csv_file, txt_file):\n",
    "    # Read CSV file\n",
    "    df = pd.read_csv(csv_file)\n",
    "    \n",
    "    # Remove the \"id\" column if it exists\n",
    "    if 'id' in df.columns:\n",
    "        df = df.drop(columns=['id'])\n",
    "    \n",
    "    # Save as text file with comma delimiter\n",
    "    df.to_csv(txt_file, index=False, sep=',')\n",
    "\n",
    "def convert_all_csv_to_txt(folder):\n",
    "    # List all files in the folder\n",
    "    files = os.listdir(folder)\n",
    "    \n",
    "    # Filter out CSV files\n",
    "    csv_files = [f for f in files if f.endswith('.csv')]\n",
    "    \n",
    "    # Convert each CSV file to a TXT file\n",
    "    for csv_file in csv_files:\n",
    "        txt_file = os.path.splitext(csv_file)[0] + '.txt'\n",
    "        csv_to_txt(os.path.join(folder, csv_file), os.path.join(folder, txt_file))\n",
    "\n",
    "# Example usage:\n",
    "current_folder = '.'  # Current folder\n",
    "convert_all_csv_to_txt(current_folder)"
   ]
  },
  {
   "cell_type": "code",
   "execution_count": null,
   "id": "de5d4e0f-d731-42c6-af0d-3a38dceb68e7",
   "metadata": {},
   "outputs": [],
   "source": []
  }
 ],
 "metadata": {
  "kernelspec": {
   "display_name": "Python 3 (ipykernel)",
   "language": "python",
   "name": "python3"
  },
  "language_info": {
   "codemirror_mode": {
    "name": "ipython",
    "version": 3
   },
   "file_extension": ".py",
   "mimetype": "text/x-python",
   "name": "python",
   "nbconvert_exporter": "python",
   "pygments_lexer": "ipython3",
   "version": "3.12.0"
  }
 },
 "nbformat": 4,
 "nbformat_minor": 5
}
