{
 "cells": [
  {
   "cell_type": "code",
   "execution_count": 10,
   "id": "c89cb0c9-210a-480d-9422-e73cc5aff44a",
   "metadata": {},
   "outputs": [],
   "source": [
    "import pandas as pd\n",
    "\n",
    "def csv_to_txt(csv_file, txt_file):\n",
    "    # Read CSV file\n",
    "    df = pd.read_csv(csv_file)\n",
    "    \n",
    "    # Save as text file with comma delimiter\n",
    "    df.to_csv(txt_file, index=False, sep=',')\n",
    "\n",
    "# Example usage:\n",
    "csv_file = 'output_interpolated_sr.csv'  # Replace 'example.csv' with your CSV file path\n",
    "txt_file = 'output_interpolated_sr.txt'  # Replace 'output.txt' with your desired text file path\n",
    "csv_to_txt(csv_file, txt_file)\n"
   ]
  },
  {
   "cell_type": "code",
   "execution_count": null,
   "id": "de5d4e0f-d731-42c6-af0d-3a38dceb68e7",
   "metadata": {},
   "outputs": [],
   "source": []
  }
 ],
 "metadata": {
  "kernelspec": {
   "display_name": "Python 3 (ipykernel)",
   "language": "python",
   "name": "python3"
  },
  "language_info": {
   "codemirror_mode": {
    "name": "ipython",
    "version": 3
   },
   "file_extension": ".py",
   "mimetype": "text/x-python",
   "name": "python",
   "nbconvert_exporter": "python",
   "pygments_lexer": "ipython3",
   "version": "3.12.0"
  }
 },
 "nbformat": 4,
 "nbformat_minor": 5
}
