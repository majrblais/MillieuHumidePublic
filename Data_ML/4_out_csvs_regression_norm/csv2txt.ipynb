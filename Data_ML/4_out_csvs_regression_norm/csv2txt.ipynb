{
 "cells": [
  {
   "cell_type": "code",
   "execution_count": 3,
   "id": "6623796f-a3e9-4835-9e82-4004ecc34524",
   "metadata": {},
   "outputs": [],
   "source": [
    "import pandas as pd\n",
    "\n",
    "def csv_to_txt(csv_file, txt_file):\n",
    "    # Read CSV file\n",
    "    df = pd.read_csv(csv_file)\n",
    "    \n",
    "    # Save as text file with comma delimiter\n",
    "    df.to_csv(txt_file, index=False, sep=',')\n",
    "\n",
    "# Example usage:\n",
    "csv_file = 'output_ffill_imputed.csv'  # Replace 'example.csv' with your CSV file path\n",
    "txt_file = 'output_ffill_imputed.txt'  # Replace 'output.txt' with your desired text file path\n",
    "csv_to_txt(csv_file, txt_file)\n"
   ]
  },
  {
   "cell_type": "code",
   "execution_count": null,
   "id": "cbeb406f-f13c-44b6-8ff0-1388c047ae68",
   "metadata": {},
   "outputs": [],
   "source": []
  }
 ],
 "metadata": {
  "kernelspec": {
   "display_name": "Python 3 (ipykernel)",
   "language": "python",
   "name": "python3"
  },
  "language_info": {
   "codemirror_mode": {
    "name": "ipython",
    "version": 3
   },
   "file_extension": ".py",
   "mimetype": "text/x-python",
   "name": "python",
   "nbconvert_exporter": "python",
   "pygments_lexer": "ipython3",
   "version": "3.8.19"
  }
 },
 "nbformat": 4,
 "nbformat_minor": 5
}
