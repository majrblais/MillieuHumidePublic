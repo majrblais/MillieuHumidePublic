{
 "cells": [
  {
   "cell_type": "code",
   "execution_count": 6,
   "id": "7531853d-c2be-47ff-a5a8-639ef1fd2641",
   "metadata": {},
   "outputs": [],
   "source": [
    "import pandas as pd\n",
    "\n",
    "def excel_to_txt(excel_file, txt_file):\n",
    "    # Read Excel file\n",
    "    df = pd.read_excel(excel_file)\n",
    "    \n",
    "    # Save as text file with comma delimiter\n",
    "    df.to_csv(txt_file, index=False, sep=',')\n",
    "\n",
    "# Example usage:\n",
    "excel_file = 'data_all_numerical_select.xlsx'  # Replace 'example.xlsx' with your Excel file path\n",
    "txt_file = 'selected.txt'       # Replace 'output.txt' with your desired text file path\n",
    "excel_to_txt(excel_file, txt_file)\n"
   ]
  },
  {
   "cell_type": "code",
   "execution_count": null,
   "id": "90ef2c05-62cd-45ec-afd1-65461ce01388",
   "metadata": {},
   "outputs": [],
   "source": []
  }
 ],
 "metadata": {
  "kernelspec": {
   "display_name": "Python 3 (ipykernel)",
   "language": "python",
   "name": "python3"
  },
  "language_info": {
   "codemirror_mode": {
    "name": "ipython",
    "version": 3
   },
   "file_extension": ".py",
   "mimetype": "text/x-python",
   "name": "python",
   "nbconvert_exporter": "python",
   "pygments_lexer": "ipython3",
   "version": "3.12.0"
  }
 },
 "nbformat": 4,
 "nbformat_minor": 5
}
