{
 "cells": [
  {
   "cell_type": "code",
   "execution_count": 2,
   "id": "ca8a816e-a961-4170-aa17-505ca7a198a3",
   "metadata": {},
   "outputs": [
    {
     "name": "stdout",
     "output_type": "stream",
     "text": [
      "              Lower  Moderate  Higher\n",
      "PR               12       102      96\n",
      "SR               95        63      52\n",
      "NR               65        67      78\n",
      "WS               85        70      55\n",
      "SFST             74        48      88\n",
      "PR_Benefit      109         9      92\n",
      "SR_Benefit      118        75      17\n",
      "NR_Benefit       76        89      45\n",
      "WS_Benefit      144        41      25\n",
      "SFST_Benefit     80        48      82\n"
     ]
    }
   ],
   "source": [
    "import pandas as pd\n",
    "\n",
    "def calculate_statistics_from_csv(csv_file):\n",
    "    # Read the CSV file into a DataFrame\n",
    "    df = pd.read_csv(csv_file)\n",
    "\n",
    "    # Initialize a dictionary to store the statistics\n",
    "    statistics = {}\n",
    "\n",
    "    # Define the columns of interest\n",
    "    columns_of_interest = ['PR', 'SR', 'NR', 'WS', 'SFST', 'PR_Benefit', 'SR_Benefit', 'NR_Benefit', 'WS_Benefit', 'SFST_Benefit']\n",
    "\n",
    "    # Iterate over each column of interest in the DataFrame (excluding the 'id' column)\n",
    "    for column in columns_of_interest:\n",
    "        if column not in df.columns:\n",
    "            print(f\"Warning: Column {column} not found in the CSV file.\")\n",
    "            continue\n",
    "\n",
    "        # Count the occurrences of 0, 1, and 2 in the column\n",
    "        counts = df[column].value_counts().to_dict()\n",
    "\n",
    "        # Ensure all possible values (0, 1, 2) are included in the counts\n",
    "        statistics[column] = {\n",
    "            'Lower': counts.get(0, 0),\n",
    "            'Moderate': counts.get(1, 0),\n",
    "            'Higher': counts.get(2, 0)\n",
    "        }\n",
    "\n",
    "    # Convert the statistics dictionary to a DataFrame for easier viewing\n",
    "    statistics_df = pd.DataFrame(statistics).transpose()\n",
    "    statistics_df.columns = ['Lower', 'Moderate', 'Higher']\n",
    "\n",
    "    # Print the statistics DataFrame\n",
    "    print(statistics_df)\n",
    "\n",
    "    return statistics_df\n",
    "\n",
    "def main():\n",
    "    # Specify the path to the CSV file\n",
    "    csv_file = '3_output_class_rem_extra.csv'\n",
    "\n",
    "    # Calculate and display the statistics\n",
    "    statistics_df = calculate_statistics_from_csv(csv_file)\n",
    "\n",
    "if __name__ == '__main__':\n",
    "    main()\n"
   ]
  },
  {
   "cell_type": "code",
   "execution_count": null,
   "id": "42187e5c-b6e9-4e9a-9443-8e6c7e7ec615",
   "metadata": {},
   "outputs": [],
   "source": []
  }
 ],
 "metadata": {
  "kernelspec": {
   "display_name": "Python 3 (ipykernel)",
   "language": "python",
   "name": "python3"
  },
  "language_info": {
   "codemirror_mode": {
    "name": "ipython",
    "version": 3
   },
   "file_extension": ".py",
   "mimetype": "text/x-python",
   "name": "python",
   "nbconvert_exporter": "python",
   "pygments_lexer": "ipython3",
   "version": "3.12.0"
  }
 },
 "nbformat": 4,
 "nbformat_minor": 5
}
