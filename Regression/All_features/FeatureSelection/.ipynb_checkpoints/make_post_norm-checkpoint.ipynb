{
 "cells": [
  {
   "cell_type": "code",
   "execution_count": 7,
   "id": "bbadbe1c-a1ee-4fc0-8c71-06cdc25d6269",
   "metadata": {},
   "outputs": [
    {
     "name": "stdout",
     "output_type": "stream",
     "text": [
      "Saved normalized and recalculated file: .\\test_results_WS_non_norm_post.csv\n"
     ]
    }
   ],
   "source": [
    "import pandas as pd\n",
    "import glob\n",
    "import numpy as np\n",
    "from sklearn.metrics import mean_squared_error\n",
    "import os\n",
    "\n",
    "# Configuration for normalization\n",
    "config = {\n",
    "    \"WS\": {\"min\": 1.58, \"max\": 8.61},\n",
    "    \"PR\": {\"min\": 2.07, \"max\": 10.0},\n",
    "    \"NR\": {\"min\": 4.10, \"max\": 10.0},\n",
    "    \"SR\": {\"min\": 2.29, \"max\": 10.0},\n",
    "    \"SFST\": {\"min\": 0.0, \"max\": 7.71},\n",
    "    \"WS_Benefit\": {\"min\": 0.08, \"max\": 10.0},\n",
    "    \"PR_Benefit\": {\"min\": 0.49, \"max\": 10.0},\n",
    "    \"NR_Benefit\": {\"min\": 0.71, \"max\": 10.0},\n",
    "    \"SR_Benefit\": {\"min\": 0.49, \"max\": 8.79},\n",
    "    \"SFST_Benefit\": {\"min\": 0.0, \"max\": 7.19}\n",
    "}\n",
    "# Function to normalize values based on the feature\n",
    "def normalize_values(values, feature):\n",
    "    min_val = config[feature][\"min\"]\n",
    "    max_val = config[feature][\"max\"]\n",
    "    return np.clip((values - min_val) / (max_val - min_val) * 10, 0, 10)\n",
    "\n",
    "# List of possible feature names\n",
    "feature_list = [\"WS\", \"PR\", \"NR\", \"SR\", \"SFST\", \"WS_Benefit\", \"PR_Benefit\", \"NR_Benefit\", \"SR_Benefit\", \"SFST_Benefit\"]\n",
    "\n",
    "\n",
    "# Function to find the correct feature name in the CSV file path\n",
    "def extract_feature_name(file_name):\n",
    "    for feature in feature_list:\n",
    "        if feature in file_name:\n",
    "            return feature\n",
    "    raise ValueError(\"No matching feature found in the file name.\")\n",
    "\n",
    "# Function to process a single CSV file, normalize the results, and save the new file\n",
    "def process_and_normalize_file(csv_file):\n",
    "    # Extract the feature name using the feature list\n",
    "    feature = extract_feature_name(csv_file)\n",
    "    \n",
    "    # Load the CSV file\n",
    "    df = pd.read_csv(csv_file)\n",
    "    \n",
    "    # Normalize 'Actual' and 'Predicted' columns\n",
    "    #print(df['Actual'])\n",
    "    df['Actual'] = df['Actual'].apply(lambda x: ','.join(map(str, normalize_values(np.array(list(map(float, x.split(',')))), feature))))\n",
    "    #print(df['Actual'])\n",
    "    df['Predicted'] = df['Predicted'].apply(lambda x: ','.join(map(str, normalize_values(np.array(list(map(float, x.split(',')))), feature))))\n",
    "    \n",
    "    # Recalculate MSE for each row using the normalized values\n",
    "    df['MSE'] = df.apply(lambda row: mean_squared_error(\n",
    "        np.array(list(map(float, row['Actual'].split(',')))),\n",
    "        np.array(list(map(float, row['Predicted'].split(','))))\n",
    "    ), axis=1)\n",
    "    \n",
    "    # Save the normalized results to a new CSV file with suffix '_post.csv'\n",
    "    new_file_path = csv_file.replace('non_norm.csv', 'non_norm_post.csv')\n",
    "    df.to_csv(new_file_path, index=False)\n",
    "    print(f\"Saved normalized and recalculated file: {new_file_path}\")\n",
    "\n",
    "# Process all 'test_results_***_non_norm.csv' files\n",
    "csv_files = glob.glob('./test_results_*_non_norm.csv')  # Adjust the path to match your directory structure\n",
    "\n",
    "for csv_file in csv_files:\n",
    "    process_and_normalize_file(csv_file)\n"
   ]
  },
  {
   "cell_type": "code",
   "execution_count": null,
   "id": "ec1d57de-017d-480a-b166-027e26909f9c",
   "metadata": {},
   "outputs": [],
   "source": []
  },
  {
   "cell_type": "code",
   "execution_count": null,
   "id": "25ad0e33-0cc8-459f-a4f0-cb93433d5e27",
   "metadata": {},
   "outputs": [],
   "source": []
  }
 ],
 "metadata": {
  "kernelspec": {
   "display_name": "Python 3 (ipykernel)",
   "language": "python",
   "name": "python3"
  },
  "language_info": {
   "codemirror_mode": {
    "name": "ipython",
    "version": 3
   },
   "file_extension": ".py",
   "mimetype": "text/x-python",
   "name": "python",
   "nbconvert_exporter": "python",
   "pygments_lexer": "ipython3",
   "version": "3.12.0"
  }
 },
 "nbformat": 4,
 "nbformat_minor": 5
}
