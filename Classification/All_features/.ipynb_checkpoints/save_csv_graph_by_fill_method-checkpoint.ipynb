{
 "cells": [
  {
   "cell_type": "code",
   "execution_count": 5,
   "id": "b8185dbe-eb9e-477c-8d8b-41be807cd796",
   "metadata": {},
   "outputs": [
    {
     "name": "stdout",
     "output_type": "stream",
     "text": [
      "Plots saved to output_plots_directory\n"
     ]
    }
   ],
   "source": [
    "import pandas as pd\n",
    "import matplotlib.pyplot as plt\n",
    "import os\n",
    "import glob\n",
    "\n",
    "# Directory containing the output CSV files\n",
    "output_csv_directory = './PR_Benefit/'\n",
    "# Directory to save the plots\n",
    "output_plots_directory = './output_plots_PR_Benefit/'\n",
    "os.makedirs(output_plots_directory, exist_ok=True)\n",
    "\n",
    "# Read all the CSV files in the directory\n",
    "csv_files = glob.glob(os.path.join(output_csv_directory, '*.csv'))\n",
    "\n",
    "# Define colors for the different models\n",
    "colors = ['blue', 'green', 'red', 'cyan', 'magenta', 'yellow', 'black', 'purple', 'orange', 'pink']\n",
    "\n",
    "# Function to plot actual vs. predicted results for each CSV file\n",
    "def plot_actual_vs_predicted(csv_file):\n",
    "    data = pd.read_csv(csv_file)\n",
    "    models = data['Model'].unique()\n",
    "    plt.figure(figsize=(10, 8))\n",
    "    \n",
    "    for i, model in enumerate(models):\n",
    "        model_data = data[data['Model'] == model]\n",
    "        actual = model_data['Actual']\n",
    "        predicted = model_data['Predicted']\n",
    "        plt.scatter(actual, predicted, color=colors[i % len(colors)], s=5, label=model)\n",
    "\n",
    "    plt.plot([-2, 10], [-2, 10], 'k--', lw=2)\n",
    "    plt.xlabel('Actual')\n",
    "    plt.ylabel('Predicted')\n",
    "    plt.title(f'Actual vs. Predicted Results for {os.path.basename(csv_file)}')\n",
    "    plt.legend()\n",
    "    plot_filename = os.path.join(output_plots_directory, f\"{os.path.basename(csv_file).replace('.csv', '')}_plot.png\")\n",
    "    plt.savefig(plot_filename)\n",
    "    plt.close()\n",
    "\n",
    "# Plot and save graphs for each CSV file\n",
    "for csv_file in csv_files:\n",
    "    plot_actual_vs_predicted(csv_file)\n",
    "\n",
    "print(\"Plots saved to output_plots_directory\")\n"
   ]
  },
  {
   "cell_type": "code",
   "execution_count": null,
   "id": "7ce1f293-b38c-4270-ad8d-3c28126d56ff",
   "metadata": {},
   "outputs": [],
   "source": []
  }
 ],
 "metadata": {
  "kernelspec": {
   "display_name": "Python 3 (ipykernel)",
   "language": "python",
   "name": "python3"
  },
  "language_info": {
   "codemirror_mode": {
    "name": "ipython",
    "version": 3
   },
   "file_extension": ".py",
   "mimetype": "text/x-python",
   "name": "python",
   "nbconvert_exporter": "python",
   "pygments_lexer": "ipython3",
   "version": "3.12.0"
  }
 },
 "nbformat": 4,
 "nbformat_minor": 5
}
