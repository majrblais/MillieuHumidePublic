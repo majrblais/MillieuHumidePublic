{
 "cells": [
  {
   "cell_type": "code",
   "execution_count": 1,
   "id": "eb96a90d-f0a6-4881-9f79-28e6068f0eda",
   "metadata": {},
   "outputs": [
    {
     "name": "stdout",
     "output_type": "stream",
     "text": [
      "Top 3 confusion matrices saved to output_plots_by_model\n"
     ]
    }
   ],
   "source": [
    "import pandas as pd\n",
    "import matplotlib.pyplot as plt\n",
    "import os\n",
    "import glob\n",
    "from sklearn.metrics import confusion_matrix\n",
    "import seaborn as sns\n",
    "\n",
    "# Directory containing the output CSV files\n",
    "output_csv_directory = './PR_Benefit/'\n",
    "# Directory to save the plots\n",
    "output_plots_directory = './output_plots_by_model_PR_Benefit/'\n",
    "os.makedirs(output_plots_directory, exist_ok=True)\n",
    "\n",
    "# Read the file containing the best models info\n",
    "best_models_info = pd.read_csv('./best_models_infoPR_Benefit.csv')\n",
    "\n",
    "# Function to extract the relevant part of the filename for the title\n",
    "def extract_title_part(filename):\n",
    "    return filename.split('_')[0]  # Adjust the split index based on the filename format\n",
    "\n",
    "# Dictionary to store data for each best model\n",
    "best_model_data_dict = {}\n",
    "\n",
    "# Read each CSV file and store the data for the best models\n",
    "csv_files = glob.glob(os.path.join(output_csv_directory, '*.csv'))\n",
    "\n",
    "for csv_file in csv_files:\n",
    "    data = pd.read_csv(csv_file)\n",
    "    # Extract the part of the filename to match with best_models_info\n",
    "    csv_file_basename = os.path.basename(csv_file).replace('output_o', 'o').replace('_PR_Benefit.csv', '')\n",
    "\n",
    "    best_model_row = best_models_info[best_models_info['csv_file'] == csv_file_basename]\n",
    "    if not best_model_row.empty:\n",
    "        best_model_name = best_model_row['model_name'].values[0]\n",
    "        accuracy = best_model_row['accuracy'].values[0]\n",
    "        if best_model_name in data['Model'].unique():\n",
    "            best_model_data = data[data['Model'] == best_model_name]\n",
    "            best_model_data_dict[(best_model_name, csv_file_basename, accuracy)] = best_model_data\n",
    "# Function to plot confusion matrix for each best model\n",
    "def plot_confusion_matrix(ax, model_name, csv_filename, model_data, accuracy):\n",
    "    actual = model_data['Actual']\n",
    "    predicted = model_data['Predicted']\n",
    "    cm = confusion_matrix(actual, predicted, labels=[0, 1, 2])\n",
    "    \n",
    "    sns.heatmap(cm, annot=True, fmt='d', cmap='Blues', xticklabels=[0, 1, 2], yticklabels=[0, 1, 2], ax=ax)\n",
    "    ax.set_xlabel('Predicted')\n",
    "    ax.set_ylabel('Actual')\n",
    "    title_part = extract_title_part(csv_filename)\n",
    "    ax.set_title(f'Confusion Matrix for {model_name} ({title_part})\\nAccuracy: {accuracy}')\n",
    "\n",
    "# Plot the top 3 confusion matrices based on accuracy\n",
    "top_3_models = sorted(best_model_data_dict.items(), key=lambda x: x[0][2], reverse=True)[:3]\n",
    "num_models = len(top_3_models)\n",
    "fig, axes = plt.subplots(num_models, 1, figsize=(10, 8 * num_models))\n",
    "\n",
    "if num_models == 1:\n",
    "    axes = [axes]  # Ensure axes is iterable if there's only one subplot\n",
    "\n",
    "for ax, ((model_name, csv_filename, accuracy), model_data) in zip(axes, top_3_models):\n",
    "    plot_confusion_matrix(ax, model_name, csv_filename, model_data, accuracy)\n",
    "\n",
    "plt.tight_layout(pad=3.0)\n",
    "plot_filename = os.path.join(output_plots_directory, \"top_3_confusion_matrices.png\")\n",
    "plt.savefig(plot_filename)\n",
    "plt.close()\n",
    "\n",
    "print(\"Top 3 confusion matrices saved to output_plots_by_model\")"
   ]
  },
  {
   "cell_type": "code",
   "execution_count": null,
   "id": "0a22d00d-429c-4e57-b1bc-e5120547a818",
   "metadata": {},
   "outputs": [],
   "source": []
  },
  {
   "cell_type": "code",
   "execution_count": null,
   "id": "bb692df2-5d33-4580-99dc-31d2369a3576",
   "metadata": {},
   "outputs": [],
   "source": []
  }
 ],
 "metadata": {
  "kernelspec": {
   "display_name": "Python 3 (ipykernel)",
   "language": "python",
   "name": "python3"
  },
  "language_info": {
   "codemirror_mode": {
    "name": "ipython",
    "version": 3
   },
   "file_extension": ".py",
   "mimetype": "text/x-python",
   "name": "python",
   "nbconvert_exporter": "python",
   "pygments_lexer": "ipython3",
   "version": "3.12.0"
  }
 },
 "nbformat": 4,
 "nbformat_minor": 5
}
